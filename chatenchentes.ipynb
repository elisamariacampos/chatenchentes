{
  "nbformat": 4,
  "nbformat_minor": 0,
  "metadata": {
    "colab": {
      "provenance": [],
      "authorship_tag": "ABX9TyNWwpbmUER3oLoTO10rhP1G",
      "include_colab_link": true
    },
    "kernelspec": {
      "name": "python3",
      "display_name": "Python 3"
    },
    "language_info": {
      "name": "python"
    }
  },
  "cells": [
    {
      "cell_type": "markdown",
      "metadata": {
        "id": "view-in-github",
        "colab_type": "text"
      },
      "source": [
        "<a href=\"https://colab.research.google.com/github/elisamariacampos/chatenchentes/blob/main/chatenchentes.ipynb\" target=\"_parent\"><img src=\"https://colab.research.google.com/assets/colab-badge.svg\" alt=\"Open In Colab\"/></a>"
      ]
    },
    {
      "cell_type": "code",
      "execution_count": null,
      "metadata": {
        "id": "dFIq8DF_NvU9"
      },
      "outputs": [],
      "source": [
        "#Instalando o SDK do Google\n",
        "!pip install -q -U google-generativeai"
      ]
    },
    {
      "cell_type": "code",
      "source": [
        "#Configurações iniciais\n",
        "import google.generativeai as genai\n",
        "from google.colab import userdata\n",
        "api_key = userdata.get(\"secret_key\")\n",
        "genai.configure(api_key=api_key)"
      ],
      "metadata": {
        "id": "vZeOQMQIVZOP"
      },
      "execution_count": null,
      "outputs": []
    },
    {
      "cell_type": "code",
      "source": [
        "#Listando os modelos disponíveis\n",
        "for m in genai.list_models():\n",
        "  if 'generateContent' in m.supported_generation_methods:\n",
        "    print(m.name)"
      ],
      "metadata": {
        "colab": {
          "base_uri": "https://localhost:8080/",
          "height": 139
        },
        "id": "ITm98wI1bCFW",
        "outputId": "0bb139e8-e2c7-490d-cb88-56d230461670"
      },
      "execution_count": null,
      "outputs": [
        {
          "output_type": "stream",
          "name": "stdout",
          "text": [
            "models/gemini-1.0-pro\n",
            "models/gemini-1.0-pro-001\n",
            "models/gemini-1.0-pro-latest\n",
            "models/gemini-1.0-pro-vision-latest\n",
            "models/gemini-1.5-pro-latest\n",
            "models/gemini-pro\n",
            "models/gemini-pro-vision\n"
          ]
        }
      ]
    },
    {
      "cell_type": "code",
      "source": [
        "generation_config = {\n",
        "  \"candidate_count\": 1,\n",
        "  \"temperature\": 0.5,\n",
        "}"
      ],
      "metadata": {
        "id": "pKuhpootbW-A"
      },
      "execution_count": null,
      "outputs": []
    },
    {
      "cell_type": "code",
      "source": [
        "safety_settings={\n",
        "    'HATE': 'BLOCK_none',\n",
        "    'HARASSMENT': 'BLOCK_none',\n",
        "    'SEXUAL' : 'BLOCK_none',\n",
        "    'DANGEROUS' : 'BLOCK_none'\n",
        "    }"
      ],
      "metadata": {
        "id": "8uvMqImpbbKg"
      },
      "execution_count": null,
      "outputs": []
    },
    {
      "cell_type": "code",
      "source": [
        "model = genai.GenerativeModel(model_name='gemini-1.0-pro',\n",
        "                                  generation_config=generation_config,\n",
        "                                  safety_settings=safety_settings,)"
      ],
      "metadata": {
        "id": "WyIkO3DobmNs"
      },
      "execution_count": 66,
      "outputs": []
    },
    {
      "cell_type": "code",
      "source": [
        "response = model.generate_content(\"Defina solidariedade em uma linha\")\n",
        "response.text"
      ],
      "metadata": {
        "colab": {
          "base_uri": "https://localhost:8080/",
          "height": 35
        },
        "id": "6XDmRY1Bbzpx",
        "outputId": "3b772032-4b96-4e76-9f48-e56e027b05e0"
      },
      "execution_count": null,
      "outputs": [
        {
          "output_type": "execute_result",
          "data": {
            "text/plain": [
              "'Apoio mútuo entre indivíduos ou grupos, especialmente em tempos de dificuldade.'"
            ],
            "application/vnd.google.colaboratory.intrinsic+json": {
              "type": "string"
            }
          },
          "metadata": {},
          "execution_count": 21
        }
      ]
    },
    {
      "cell_type": "code",
      "source": [
        "chat = model.start_chat(history=[])"
      ],
      "metadata": {
        "id": "2mmacuX8mWCa"
      },
      "execution_count": 67,
      "outputs": []
    },
    {
      "cell_type": "code",
      "source": [
        "# Importa a biblioteca de processamento de linguagem natural\n",
        "import nltk\n",
        "\n",
        "# Carrega o modelo de download do NLTK para tokenização de palavras\n",
        "nltk.download('punkt')\n",
        "\n",
        "# Cria uma função para tokenizar uma string\n",
        "def tokenize(string):\n",
        "    return nltk.word_tokenize(string)\n",
        "\n",
        "# Cria uma função para identificar o número escolhido pelo usuário\n",
        "def get_number(string):\n",
        "    tokens = tokenize(string)\n",
        "    for token in tokens:\n",
        "        if token.isdigit():\n",
        "            return int(token)\n",
        "\n",
        "# Cria uma função para gerar a resposta com base no número escolhido\n",
        "def generate_response(number):\n",
        "    responses = {\n",
        "        1: \"Clique aqui para encontrar essa informação: https://sosenchentes.rs.gov.br/upload/arquivos/202405/10131409-abrigos-e-escolas-10-5-2024.pdf\",\n",
        "        2: \"Clique aqui para encontrar essa informação: https://www.instagram.com/achamossuacrianca/\",\n",
        "        3: \"Clique aqui para encontrar essa informação: https://docs.google.com/spreadsheets/d/1f5gofOOv4EFYWhVqwPWbgF2M-7uHrJrCMiP7Ug4y6lQ/edit#gid=1619683963\",\n",
        "        4: \"Clique aqui para encontrar essa informação: https://sosenchentes.rs.gov.br/doacoes-em-geral\",\n",
        "        5: \"Clique aqui para encontrar essa informação: https://sosenchentes.rs.gov.br/sobre-o-pix\",\n",
        "        6: \"Clique aqui para encontrar essa informação: https://sosenchentes.rs.gov.br/como-pedir-socorro\",\n",
        "    }\n",
        "    return responses.get(number, \"Opção inválida\")\n",
        "\n",
        "# Cria uma função para executar o chatbot\n",
        "def run_chatbot():\n",
        "    # Exibe o menu de opções\n",
        "    print(\"\\033[1m  Qual informação você precisa do Rio Grande do Sul?\\033[0m\")\n",
        "    print(\"1- Achar um abrigo\")\n",
        "    print(\"2- Procurar ou informar criança perdida\")\n",
        "    print(\"3- Procurar pessoas abrigadas\")\n",
        "    print(\"4- Fazer uma doação em bens materiais:\")\n",
        "    print(\"5- Fazer uma doação financeira:\")\n",
        "    print(\"6- Pedir socorro\")\n",
        "\n",
        "    # Obtém o número escolhido pelo usuário\n",
        "    number = get_number(input())\n",
        "\n",
        "    # Gera a resposta com base no número escolhido\n",
        "    response = generate_response(number)\n",
        "\n",
        "    # Exibe a resposta\n",
        "    print(response)\n",
        "\n",
        "    # Pergunta se o usuário deseja escolher outro número\n",
        "    while True:\n",
        "        choice = input(\"\\033[1m  Deseja escolher outro número? (1-sim ou 2-não)\\033[0m\\n\")\n",
        "        if choice == \"1\":\n",
        "            run_chatbot()\n",
        "        elif choice == \"2\":\n",
        "            print(\"\\033[1m  Obrigada por se preocupar. Juntos somos mais fortes\\033[0m\")\n",
        "            break\n",
        "        else:\n",
        "            print(\"\\033[1m  Opção inválida. Digite 1 para sim ou 2 para não.\\033[0m\")\n",
        "\n",
        "# Executa o chatbot\n",
        "run_chatbot()"
      ],
      "metadata": {
        "colab": {
          "base_uri": "https://localhost:8080/"
        },
        "id": "qUd1Mgtf-Kks",
        "outputId": "a0dd9d63-4f16-494b-f32f-c3de2a23ce53"
      },
      "execution_count": 82,
      "outputs": [
        {
          "output_type": "stream",
          "name": "stderr",
          "text": [
            "[nltk_data] Downloading package punkt to /root/nltk_data...\n",
            "[nltk_data]   Package punkt is already up-to-date!\n"
          ]
        },
        {
          "output_type": "stream",
          "name": "stdout",
          "text": [
            "\u001b[1m  Qual informação você precisa do Rio Grande do Sul?\u001b[0m\n",
            "1- Achar um abrigo\n",
            "2- Procurar ou informar criança perdida\n",
            "3- Procurar pessoas abrigadas\n",
            "4- Fazer uma doação em bens materiais:\n",
            "5- Fazer uma doação financeira:\n",
            "6- Pedir socorro\n",
            "3\n",
            "Clique aqui para encontrar essa informação: https://docs.google.com/spreadsheets/d/1f5gofOOv4EFYWhVqwPWbgF2M-7uHrJrCMiP7Ug4y6lQ/edit#gid=1619683963\n",
            "\u001b[1m  Deseja escolher outro número? (1-sim ou 2-não)\u001b[0m\n",
            "2\n",
            "\u001b[1m  Obrigada por se preocupar. Juntos somos mais fortes\u001b[0m\n"
          ]
        }
      ]
    },
    {
      "cell_type": "code",
      "source": [],
      "metadata": {
        "id": "n_5WphZJFOSb"
      },
      "execution_count": null,
      "outputs": []
    }
  ]
}